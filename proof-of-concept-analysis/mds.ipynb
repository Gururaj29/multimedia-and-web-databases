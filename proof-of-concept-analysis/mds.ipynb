{
 "cells": [
  {
   "cell_type": "markdown",
   "metadata": {},
   "source": [
    "The criterion for the mapping is to minimize stress\n",
    "- Start with a (random) configuration of points in small # dimension\n",
    "- Apply some form of steepest descent iteratively to minimize the stress\n",
    "  - move objects\n",
    "  - If moving objects does not help add dimensions\n",
    "\n",
    "$$ stress = \\sqrt{\\frac{\\sum_{i,j} (d^{'}_{ij} - d_{ij})^{2}}{\\sum_{i,j} d_{ij}^{2}}} $$\n",
    "\n",
    "$$ {stress}^2 = \\frac{\\sum_{i,j} (d^{'}_{ij} - d_{ij})^{2}}{\\sum_{i,j} d_{ij}^{2}} $$"
   ]
  },
  {
   "cell_type": "code",
   "execution_count": 1,
   "metadata": {
    "ExecuteTime": {
     "end_time": "2023-11-21T03:23:22.084672Z",
     "start_time": "2023-11-21T03:23:21.113734Z"
    }
   },
   "outputs": [],
   "source": [
    "import numpy as np\n",
    "import matplotlib.pyplot as plt"
   ]
  },
  {
   "cell_type": "code",
   "execution_count": 2,
   "metadata": {
    "ExecuteTime": {
     "end_time": "2023-11-21T03:23:22.093169Z",
     "start_time": "2023-11-21T03:23:22.092438Z"
    }
   },
   "outputs": [],
   "source": [
    "# calculate gradient at a specific point\n",
    "\n",
    "\n",
    "def gradient_at_k_l(X, S, S_star, T_star, d, d_prime, k, l):\n",
    "    g_kl = 0\n",
    "    for i in range(X.shape[0]):\n",
    "        for j in range(X.shape[0]):\n",
    "            if i == j:\n",
    "                continue\n",
    "            if k == i:\n",
    "                delta_ki = 1\n",
    "            else:\n",
    "                delta_ki = 0\n",
    "            if k == j:\n",
    "                delta_kj = 1\n",
    "            else:\n",
    "                delta_kj = 0\n",
    "            g_kl += (\n",
    "                (delta_ki - delta_kj)\n",
    "                * (((d[i, j] - d_prime[i, j]) / S_star) - (d[i, j] / T_star))\n",
    "                * ((X[i, l] - X[j, l]) / d[i, j])\n",
    "            )\n",
    "    g_kl *= S\n",
    "    return g_kl"
   ]
  },
  {
   "cell_type": "code",
   "execution_count": 3,
   "metadata": {
    "ExecuteTime": {
     "end_time": "2023-11-21T03:23:22.093520Z",
     "start_time": "2023-11-21T03:23:22.092893Z"
    }
   },
   "outputs": [],
   "source": [
    "# calculate gradient\n",
    "\n",
    "\n",
    "def gradient(X, d, d_prime):\n",
    "    S_star = sum(sum((d - d_prime) ** 2))\n",
    "    T_star = sum(sum(d**2))\n",
    "    S = np.sqrt(S_star / T_star)\n",
    "    gradient_matrix = np.zeros_like(X)\n",
    "    for k in range(gradient_matrix.shape[0]):\n",
    "        for l in range(gradient_matrix.shape[1]):\n",
    "            gradient_matrix[k, l] = gradient_at_k_l(\n",
    "                X, S, S_star, T_star, d, d_prime, k, l\n",
    "            )\n",
    "    return gradient_matrix"
   ]
  },
  {
   "cell_type": "code",
   "execution_count": 4,
   "metadata": {
    "ExecuteTime": {
     "end_time": "2023-11-21T03:23:22.097035Z",
     "start_time": "2023-11-21T03:23:22.093278Z"
    }
   },
   "outputs": [],
   "source": [
    "# get distances matrix\n",
    "\n",
    "\n",
    "def calculate_distances(data):\n",
    "    distances = np.zeros((len(data), len(data)))\n",
    "\n",
    "    for i in range(len(data)):\n",
    "        for j in range(i + 1, len(data)):\n",
    "            distances[i, j] = np.linalg.norm(np.subtract(data[i], data[j]))\n",
    "            distances[j, i] = np.linalg.norm(np.subtract(data[i], data[j]))\n",
    "\n",
    "    return distances"
   ]
  },
  {
   "cell_type": "code",
   "execution_count": 5,
   "metadata": {
    "ExecuteTime": {
     "end_time": "2023-11-21T03:23:22.107424Z",
     "start_time": "2023-11-21T03:23:22.098150Z"
    }
   },
   "outputs": [],
   "source": [
    "# function to calculate stress\n",
    "\n",
    "\n",
    "def calculate_stress(new_distances, org_distances):\n",
    "    return np.sqrt(\n",
    "        (sum(sum((new_distances - org_distances) ** 2)))\n",
    "        / (sum(sum(org_distances**2)))\n",
    "    )"
   ]
  },
  {
   "cell_type": "code",
   "execution_count": 6,
   "metadata": {
    "ExecuteTime": {
     "end_time": "2023-11-21T03:23:22.107804Z",
     "start_time": "2023-11-21T03:23:22.104412Z"
    }
   },
   "outputs": [],
   "source": [
    "def MDS(original_distances, dim = None):\n",
    "    # start with one dimension\n",
    "    stress_array = [np.inf]\n",
    "    \n",
    "    if dim != None:\n",
    "        # random config to begin with\n",
    "        low_dim_data = np.random.random((original_distances.shape[0], dim))\n",
    "\n",
    "        # use gradient descent algo to find the next configuration\n",
    "        ## p_n+1 = p_n - (learning_rate) * (gradient of loss @ p_n)\n",
    "\n",
    "        stress_array.append(\n",
    "            calculate_stress(\n",
    "                new_distances=calculate_distances(data=low_dim_data),\n",
    "                org_distances=original_distances,\n",
    "            )\n",
    "        )\n",
    "\n",
    "        learning_rate = 0.001\n",
    "\n",
    "        p_n = low_dim_data\n",
    "\n",
    "        for i in range(1000):\n",
    "            g = gradient(\n",
    "                X=p_n, d=original_distances, d_prime=calculate_distances(data=p_n)\n",
    "            )\n",
    "            mag_g = np.sqrt(sum(sum(g**2)) / sum(sum(p_n**2)))\n",
    "            p_n += learning_rate * g / mag_g\n",
    "            stress_array.append(\n",
    "                calculate_stress(\n",
    "                    new_distances=calculate_distances(data=p_n),\n",
    "                    org_distances=original_distances,\n",
    "                )\n",
    "            )\n",
    "\n",
    "        low_dim_features = p_n\n",
    "    else: \n",
    "        dim = 0\n",
    "        low_dim_features = None\n",
    "        while stress_array[-1] > 0.1:\n",
    "            # increase dimension\n",
    "            dim += 1\n",
    "            # random config to begin with\n",
    "            low_dim_data = np.random.random((original_distances.shape[0], dim))\n",
    "\n",
    "            # use gradient descent algo to find the next configuration\n",
    "            ## p_n+1 = p_n - (learning_rate) * (gradient of loss @ p_n)\n",
    "\n",
    "            stress_array.append(\n",
    "                calculate_stress(\n",
    "                    new_distances=calculate_distances(data=low_dim_data),\n",
    "                    org_distances=original_distances,\n",
    "                )\n",
    "            )\n",
    "\n",
    "            learning_rate = 0.001\n",
    "\n",
    "            p_n = low_dim_data\n",
    "\n",
    "            for i in range(1000):\n",
    "                g = gradient(\n",
    "                    X=p_n, d=original_distances, d_prime=calculate_distances(data=p_n)\n",
    "                )\n",
    "                mag_g = np.sqrt(sum(sum(g**2)) / sum(sum(p_n**2)))\n",
    "                p_n += learning_rate * g / mag_g\n",
    "                stress_array.append(\n",
    "                    calculate_stress(\n",
    "                        new_distances=calculate_distances(data=p_n),\n",
    "                        org_distances=original_distances,\n",
    "                    )\n",
    "                )\n",
    "\n",
    "            low_dim_features = p_n\n",
    "    return (dim, stress_array, low_dim_features)"
   ]
  },
  {
   "cell_type": "code",
   "execution_count": 7,
   "metadata": {
    "ExecuteTime": {
     "end_time": "2023-11-21T03:23:22.117420Z",
     "start_time": "2023-11-21T03:23:22.108797Z"
    }
   },
   "outputs": [
    {
     "data": {
      "text/plain": "array([[0.72681638, 0.47346903, 0.4579066 , 0.78627687, 0.6467383 ,\n        0.00228695, 0.29910386, 0.98529486, 0.38204221, 0.98260548],\n       [0.68642742, 0.90699463, 0.17374325, 0.36195692, 0.83160822,\n        0.29098961, 0.7337339 , 0.76571632, 0.17764246, 0.41000419],\n       [0.63878007, 0.27549088, 0.2529273 , 0.29456805, 0.03170135,\n        0.18442598, 0.48734656, 0.81587091, 0.08640451, 0.70050726],\n       [0.68641485, 0.14133845, 0.53840295, 0.38600255, 0.53518663,\n        0.37298536, 0.04937989, 0.14427906, 0.7121334 , 0.32175582],\n       [0.71355432, 0.89103747, 0.70169552, 0.46772204, 0.57696723,\n        0.78512798, 0.41924512, 0.40849987, 0.17551026, 0.23460682]])"
     },
     "execution_count": 7,
     "metadata": {},
     "output_type": "execute_result"
    }
   ],
   "source": [
    "# fake data\n",
    "\n",
    "# data = np.array([[0.2, 0.3, 0.4], [0.8, 0.4, 0.9], [0.3, 0.5, 0.6], [0.1, 0.7, 0.2]])\n",
    "data =  np.random.random((100,900))\n",
    "data"
   ]
  },
  {
   "cell_type": "code",
   "execution_count": 8,
   "metadata": {
    "ExecuteTime": {
     "end_time": "2023-11-21T03:23:22.127981Z",
     "start_time": "2023-11-21T03:23:22.112758Z"
    }
   },
   "outputs": [
    {
     "data": {
      "text/plain": "array([[0.        , 1.08382081, 0.98656259, 1.32055117, 1.37929018],\n       [1.08382081, 0.        , 1.10409422, 1.40084487, 0.92585134],\n       [0.98656259, 1.10409422, 0.        , 1.25579231, 1.29213537],\n       [1.32055117, 1.40084487, 1.25579231, 0.        , 1.12690157],\n       [1.37929018, 0.92585134, 1.29213537, 1.12690157, 0.        ]])"
     },
     "execution_count": 8,
     "metadata": {},
     "output_type": "execute_result"
    }
   ],
   "source": [
    "original_distances = calculate_distances(data=data)\n",
    "original_distances"
   ]
  },
  {
   "cell_type": "code",
   "execution_count": 9,
   "metadata": {
    "ExecuteTime": {
     "end_time": "2023-11-21T03:23:23.084051Z",
     "start_time": "2023-11-21T03:23:22.116744Z"
    }
   },
   "outputs": [
    {
     "name": "stdout",
     "output_type": "stream",
     "text": [
      "3 0.045373858239232644\n"
     ]
    },
    {
     "data": {
      "text/plain": "[<matplotlib.lines.Line2D at 0x10b70eaf0>]"
     },
     "execution_count": 9,
     "metadata": {},
     "output_type": "execute_result"
    },
    {
     "data": {
      "text/plain": "<Figure size 640x480 with 1 Axes>",
      "image/png": "[encoded data removed]"
     },
     "metadata": {},
     "output_type": "display_data"
    }
   ],
   "source": [
    "dim, sa, new_representation = MDS(original_distances=original_distances)\n",
    "print(dim, sa[-1])\n",
    "plt.plot(sa)"
   ]
  },
  {
   "cell_type": "code",
   "execution_count": 10,
   "metadata": {
    "ExecuteTime": {
     "end_time": "2023-11-21T03:23:23.089512Z",
     "start_time": "2023-11-21T03:23:23.084661Z"
    }
   },
   "outputs": [
    {
     "data": {
      "text/plain": "array([[ 0.42793505,  0.45133431, -0.3598394 ],\n       [-0.05251176,  1.11630055,  0.24840393],\n       [ 0.10244211,  0.06247047,  0.49056933],\n       [ 1.25732359,  0.51812625,  0.60001599],\n       [ 0.52136774,  1.23898746,  0.85387685]])"
     },
     "execution_count": 10,
     "metadata": {},
     "output_type": "execute_result"
    }
   ],
   "source": [
    "new_representation"
   ]
  },
  {
   "cell_type": "code",
   "execution_count": 11,
   "outputs": [
    {
     "name": "stdout",
     "output_type": "stream",
     "text": [
      "2 0.1690173239738249\n"
     ]
    },
    {
     "data": {
      "text/plain": "[<matplotlib.lines.Line2D at 0x11f4be850>]"
     },
     "execution_count": 11,
     "metadata": {},
     "output_type": "execute_result"
    },
    {
     "data": {
      "text/plain": "<Figure size 640x480 with 1 Axes>",
      "image/png": "[encoded data removed]"
     },
     "metadata": {},
     "output_type": "display_data"
    }
   ],
   "source": [
    "dim, sa, new_representation = MDS(original_distances=original_distances, dim=2)\n",
    "print(dim, sa[-1])\n",
    "plt.plot(sa)"
   ],
   "metadata": {
    "collapsed": false,
    "ExecuteTime": {
     "end_time": "2023-11-21T03:56:41.451953Z",
     "start_time": "2023-11-21T03:56:41.088889Z"
    }
   }
  }
 ],
 "metadata": {
  "kernelspec": {
   "display_name": "Python 3",
   "language": "python",
   "name": "python3"
  },
  "language_info": {
   "codemirror_mode": {
    "name": "ipython",
    "version": 3
   },
   "file_extension": ".py",
   "mimetype": "text/x-python",
   "name": "python",
   "nbconvert_exporter": "python",
   "pygments_lexer": "ipython3",
   "version": "3.9.7"
  }
 },
 "nbformat": 4,
 "nbformat_minor": 2
}
