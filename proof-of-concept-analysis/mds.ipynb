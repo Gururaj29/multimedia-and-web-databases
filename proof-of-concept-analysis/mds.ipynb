{
 "cells": [
  {
   "cell_type": "markdown",
   "metadata": {},
   "source": [
    "The criterion for the mapping is to minimize stress\n",
    "- Start with a (random) configuration of points in small # dimension\n",
    "- Apply some form of steepest descent iteratively to minimize the stress\n",
    "  - move objects\n",
    "  - If moving objects does not help add dimensions\n",
    "\n",
    "$$ stress = \\sqrt{\\frac{\\sum_{i,j} (d^{'}_{ij} - d_{ij})^{2}}{\\sum_{i,j} d_{ij}^{2}}} $$\n",
    "\n",
    "$$ {stress}^2 = \\frac{\\sum_{i,j} (d^{'}_{ij} - d_{ij})^{2}}{\\sum_{i,j} d_{ij}^{2}} $$"
   ]
  },
  {
   "cell_type": "code",
   "execution_count": 1,
   "metadata": {},
   "outputs": [],
   "source": [
    "import sys, os\n",
    "root = os.path.dirname(os.path.abspath(''))\n",
    "sys.path.append(root)"
   ]
  },
  {
   "cell_type": "code",
   "execution_count": null,
   "metadata": {
    "ExecuteTime": {
     "end_time": "2023-11-21T03:23:22.117420Z",
     "start_time": "2023-11-21T03:23:22.108797Z"
    }
   },
   "outputs": [],
   "source": [
    "import storage\n",
    "from util import Constants\n",
    "db = storage.Database(path=root)\n",
    "fd_data = db.get_feature_descriptors(Constants.ResNet_FC_1000)\n",
    "data_list = [fd_data[i][:10] for i in fd_data]"
   ]
  },
  {
   "cell_type": "code",
   "execution_count": null,
   "metadata": {
    "ExecuteTime": {
     "end_time": "2023-11-21T03:23:23.084051Z",
     "start_time": "2023-11-21T03:23:22.116744Z"
    }
   },
   "outputs": [],
   "source": [
    "from MDS import mds\n",
    "import matplotlib.pyplot as plt\n",
    "dim, sa, new_representation = mds.MDS(data_list[:50])\n",
    "print(dim, sa[-1])\n",
    "plt.plot(sa)"
   ]
  },
  {
   "cell_type": "code",
   "execution_count": 4,
   "metadata": {
    "ExecuteTime": {
     "end_time": "2023-11-21T03:23:23.089512Z",
     "start_time": "2023-11-21T03:23:23.084661Z"
    }
   },
   "outputs": [
    {
     "data": {
      "text/plain": [
       "array([[0.3897156 ],\n",
       "       [0.49437481],\n",
       "       [0.43442205],\n",
       "       [0.55414465],\n",
       "       [0.3058907 ],\n",
       "       [0.56673387],\n",
       "       [0.40009966],\n",
       "       [0.5256387 ],\n",
       "       [0.3370569 ],\n",
       "       [0.54199661]])"
      ]
     },
     "execution_count": 4,
     "metadata": {},
     "output_type": "execute_result"
    }
   ],
   "source": [
    "new_representation"
   ]
  },
  {
   "cell_type": "code",
   "execution_count": null,
   "metadata": {
    "ExecuteTime": {
     "end_time": "2023-11-21T03:56:41.451953Z",
     "start_time": "2023-11-21T03:56:41.088889Z"
    }
   },
   "outputs": [
    {
     "name": "stderr",
     "output_type": "stream",
     "text": [
      "/Users/gkulk/Documents/Fall 23 Courses/515/Phase 3/multimedia-and-web-databases/MDS/mds.py:21: RuntimeWarning: divide by zero encountered in scalar divide\n",
      "  * ((X[i, l] - X[j, l]) / d[i, j])\n",
      "/Users/gkulk/Documents/Fall 23 Courses/515/Phase 3/multimedia-and-web-databases/MDS/mds.py:19: RuntimeWarning: invalid value encountered in scalar multiply\n",
      "  (delta_ki - delta_kj)\n"
     ]
    }
   ],
   "source": [
    "dim, sa, new_representation = mds.MDS(data_list, dim=2)\n",
    "print(dim, sa[-1])\n",
    "plt.plot(sa)"
   ]
  }
 ],
 "metadata": {
  "kernelspec": {
   "display_name": "Python 3 (ipykernel)",
   "language": "python",
   "name": "python3"
  },
  "language_info": {
   "codemirror_mode": {
    "name": "ipython",
    "version": 3
   },
   "file_extension": ".py",
   "mimetype": "text/x-python",
   "name": "python",
   "nbconvert_exporter": "python",
   "pygments_lexer": "ipython3",
   "version": "3.11.5"
  }
 },
 "nbformat": 4,
 "nbformat_minor": 2
}
